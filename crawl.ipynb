{
  "nbformat": 4,
  "nbformat_minor": 0,
  "metadata": {
    "colab": {
      "name": "crawl.ipynb",
      "provenance": [],
      "collapsed_sections": [],
      "mount_file_id": "1yHKIcPnHOeTAJrZ9b340xsC_ZOlv5akZ",
      "authorship_tag": "ABX9TyP4fKiljerr34gVbahmhSeR",
      "include_colab_link": true
    },
    "kernelspec": {
      "name": "python3",
      "display_name": "Python 3"
    }
  },
  "cells": [
    {
      "cell_type": "markdown",
      "metadata": {
        "id": "view-in-github",
        "colab_type": "text"
      },
      "source": [
        "<a href=\"https://colab.research.google.com/github/PhanQuangTan/CS106.K21/blob/master/crawl.ipynb\" target=\"_parent\"><img src=\"https://colab.research.google.com/assets/colab-badge.svg\" alt=\"Open In Colab\"/></a>"
      ]
    },
    {
      "cell_type": "code",
      "metadata": {
        "id": "a9_KZwC098sL",
        "colab_type": "code",
        "colab": {
          "base_uri": "https://localhost:8080/",
          "height": 1000
        },
        "outputId": "09f41e93-22a4-4b9e-e67a-a39bc55e1b8f"
      },
      "source": [
        "!pip install selenium\n",
        "!apt-get update # to update ubuntu to correctly run apt install\n",
        "!apt install chromium-chromedriver\n",
        "!cp /usr/lib/chromium-browser/chromedriver /usr/bin\n",
        "import sys\n",
        "sys.path.insert(0,'/usr/lib/chromium-browser/chromedriver')"
      ],
      "execution_count": 1,
      "outputs": [
        {
          "output_type": "stream",
          "text": [
            "Collecting selenium\n",
            "\u001b[?25l  Downloading https://files.pythonhosted.org/packages/80/d6/4294f0b4bce4de0abf13e17190289f9d0613b0a44e5dd6a7f5ca98459853/selenium-3.141.0-py2.py3-none-any.whl (904kB)\n",
            "\u001b[K     |████████████████████████████████| 911kB 2.7MB/s \n",
            "\u001b[?25hRequirement already satisfied: urllib3 in /usr/local/lib/python3.6/dist-packages (from selenium) (1.24.3)\n",
            "Installing collected packages: selenium\n",
            "Successfully installed selenium-3.141.0\n",
            "Ign:1 https://developer.download.nvidia.com/compute/cuda/repos/ubuntu1804/x86_64  InRelease\n",
            "Ign:2 https://developer.download.nvidia.com/compute/machine-learning/repos/ubuntu1804/x86_64  InRelease\n",
            "Get:3 https://developer.download.nvidia.com/compute/cuda/repos/ubuntu1804/x86_64  Release [697 B]\n",
            "Get:4 https://developer.download.nvidia.com/compute/machine-learning/repos/ubuntu1804/x86_64  Release [564 B]\n",
            "Get:5 https://developer.download.nvidia.com/compute/cuda/repos/ubuntu1804/x86_64  Release.gpg [836 B]\n",
            "Get:6 https://developer.download.nvidia.com/compute/machine-learning/repos/ubuntu1804/x86_64  Release.gpg [833 B]\n",
            "Get:7 http://security.ubuntu.com/ubuntu bionic-security InRelease [88.7 kB]\n",
            "Hit:8 http://archive.ubuntu.com/ubuntu bionic InRelease\n",
            "Ign:9 https://developer.download.nvidia.com/compute/cuda/repos/ubuntu1804/x86_64  Packages\n",
            "Get:10 http://ppa.launchpad.net/graphics-drivers/ppa/ubuntu bionic InRelease [21.3 kB]\n",
            "Get:11 https://developer.download.nvidia.com/compute/machine-learning/repos/ubuntu1804/x86_64  Packages [40.0 kB]\n",
            "Get:9 https://developer.download.nvidia.com/compute/cuda/repos/ubuntu1804/x86_64  Packages [185 kB]\n",
            "Get:12 http://archive.ubuntu.com/ubuntu bionic-updates InRelease [88.7 kB]\n",
            "Get:13 https://cloud.r-project.org/bin/linux/ubuntu bionic-cran35/ InRelease [3,626 B]\n",
            "Get:14 http://security.ubuntu.com/ubuntu bionic-security/restricted amd64 Packages [82.2 kB]\n",
            "Get:15 http://ppa.launchpad.net/marutter/c2d4u3.5/ubuntu bionic InRelease [15.4 kB]\n",
            "Get:16 http://security.ubuntu.com/ubuntu bionic-security/multiverse amd64 Packages [9,012 B]\n",
            "Get:17 http://security.ubuntu.com/ubuntu bionic-security/main amd64 Packages [977 kB]\n",
            "Get:18 http://archive.ubuntu.com/ubuntu bionic-backports InRelease [74.6 kB]\n",
            "Get:19 http://ppa.launchpad.net/graphics-drivers/ppa/ubuntu bionic/main amd64 Packages [37.6 kB]\n",
            "Get:20 http://archive.ubuntu.com/ubuntu bionic-updates/main amd64 Packages [1,270 kB]\n",
            "Get:21 http://security.ubuntu.com/ubuntu bionic-security/universe amd64 Packages [862 kB]\n",
            "Get:22 http://ppa.launchpad.net/marutter/c2d4u3.5/ubuntu bionic/main Sources [1,841 kB]\n",
            "Get:23 http://archive.ubuntu.com/ubuntu bionic-updates/multiverse amd64 Packages [13.4 kB]\n",
            "Get:24 http://archive.ubuntu.com/ubuntu bionic-updates/universe amd64 Packages [1,398 kB]\n",
            "Get:25 http://archive.ubuntu.com/ubuntu bionic-updates/restricted amd64 Packages [93.9 kB]\n",
            "Get:26 http://ppa.launchpad.net/marutter/c2d4u3.5/ubuntu bionic/main amd64 Packages [888 kB]\n",
            "Fetched 7,992 kB in 7s (1,206 kB/s)\n",
            "Reading package lists... Done\n",
            "Reading package lists... Done\n",
            "Building dependency tree       \n",
            "Reading state information... Done\n",
            "The following package was automatically installed and is no longer required:\n",
            "  libnvidia-common-440\n",
            "Use 'apt autoremove' to remove it.\n",
            "The following additional packages will be installed:\n",
            "  chromium-browser chromium-browser-l10n chromium-codecs-ffmpeg-extra\n",
            "Suggested packages:\n",
            "  webaccounts-chromium-extension unity-chromium-extension adobe-flashplugin\n",
            "The following NEW packages will be installed:\n",
            "  chromium-browser chromium-browser-l10n chromium-chromedriver\n",
            "  chromium-codecs-ffmpeg-extra\n",
            "0 upgraded, 4 newly installed, 0 to remove and 63 not upgraded.\n",
            "Need to get 75.5 MB of archives.\n",
            "After this operation, 256 MB of additional disk space will be used.\n",
            "Get:1 http://archive.ubuntu.com/ubuntu bionic-updates/universe amd64 chromium-codecs-ffmpeg-extra amd64 83.0.4103.61-0ubuntu0.18.04.1 [1,119 kB]\n",
            "Get:2 http://archive.ubuntu.com/ubuntu bionic-updates/universe amd64 chromium-browser amd64 83.0.4103.61-0ubuntu0.18.04.1 [66.7 MB]\n",
            "Get:3 http://archive.ubuntu.com/ubuntu bionic-updates/universe amd64 chromium-browser-l10n all 83.0.4103.61-0ubuntu0.18.04.1 [3,378 kB]\n",
            "Get:4 http://archive.ubuntu.com/ubuntu bionic-updates/universe amd64 chromium-chromedriver amd64 83.0.4103.61-0ubuntu0.18.04.1 [4,294 kB]\n",
            "Fetched 75.5 MB in 8s (8,978 kB/s)\n",
            "Selecting previously unselected package chromium-codecs-ffmpeg-extra.\n",
            "(Reading database ... 144328 files and directories currently installed.)\n",
            "Preparing to unpack .../chromium-codecs-ffmpeg-extra_83.0.4103.61-0ubuntu0.18.04.1_amd64.deb ...\n",
            "Unpacking chromium-codecs-ffmpeg-extra (83.0.4103.61-0ubuntu0.18.04.1) ...\n",
            "Selecting previously unselected package chromium-browser.\n",
            "Preparing to unpack .../chromium-browser_83.0.4103.61-0ubuntu0.18.04.1_amd64.deb ...\n",
            "Unpacking chromium-browser (83.0.4103.61-0ubuntu0.18.04.1) ...\n",
            "Selecting previously unselected package chromium-browser-l10n.\n",
            "Preparing to unpack .../chromium-browser-l10n_83.0.4103.61-0ubuntu0.18.04.1_all.deb ...\n",
            "Unpacking chromium-browser-l10n (83.0.4103.61-0ubuntu0.18.04.1) ...\n",
            "Selecting previously unselected package chromium-chromedriver.\n",
            "Preparing to unpack .../chromium-chromedriver_83.0.4103.61-0ubuntu0.18.04.1_amd64.deb ...\n",
            "Unpacking chromium-chromedriver (83.0.4103.61-0ubuntu0.18.04.1) ...\n",
            "Setting up chromium-codecs-ffmpeg-extra (83.0.4103.61-0ubuntu0.18.04.1) ...\n",
            "Setting up chromium-browser (83.0.4103.61-0ubuntu0.18.04.1) ...\n",
            "update-alternatives: using /usr/bin/chromium-browser to provide /usr/bin/x-www-browser (x-www-browser) in auto mode\n",
            "update-alternatives: using /usr/bin/chromium-browser to provide /usr/bin/gnome-www-browser (gnome-www-browser) in auto mode\n",
            "Setting up chromium-chromedriver (83.0.4103.61-0ubuntu0.18.04.1) ...\n",
            "Setting up chromium-browser-l10n (83.0.4103.61-0ubuntu0.18.04.1) ...\n",
            "Processing triggers for hicolor-icon-theme (0.17-2) ...\n",
            "Processing triggers for mime-support (3.60ubuntu1) ...\n",
            "Processing triggers for man-db (2.8.3-2ubuntu0.1) ...\n",
            "cp: '/usr/lib/chromium-browser/chromedriver' and '/usr/bin/chromedriver' are the same file\n"
          ],
          "name": "stdout"
        }
      ]
    },
    {
      "cell_type": "code",
      "metadata": {
        "id": "it9BrSv3-TPT",
        "colab_type": "code",
        "colab": {}
      },
      "source": [
        "from selenium import webdriver\n",
        "from urllib.request import Request , urlopen \n",
        "from bs4 import BeautifulSoup\n",
        "import time"
      ],
      "execution_count": 2,
      "outputs": []
    },
    {
      "cell_type": "code",
      "metadata": {
        "id": "bXg0uMyO9-1r",
        "colab_type": "code",
        "colab": {
          "base_uri": "https://localhost:8080/",
          "height": 326
        },
        "outputId": "18893ec3-fbd5-4c8a-ff66-f76318209ee8"
      },
      "source": [
        "data = []\n",
        "link = ['https://www.huffingtonpost.co.uk/news/health/?guccounter=2', 'https://www.huffingtonpost.co.uk/news/food-drink/?guccounter=2', 'https://www.huffingtonpost.co.uk/news/wellbeing/?guccounter=2']\n",
        "for lk in range(len(link)):\n",
        "  chrome_options = webdriver.ChromeOptions()\n",
        "  chrome_options.add_argument('--headless')\n",
        "  chrome_options.add_argument('--no-sandbox')\n",
        "  chrome_options.add_argument('--disable-dev-shm-usage')\n",
        "  wd = webdriver.Chrome('chromedriver',chrome_options=chrome_options)\n",
        "  driver =webdriver.Chrome('chromedriver',chrome_options=chrome_options)\n",
        " \n",
        "  url = link[lk]\n",
        "  driver.get(url)\n",
        "  print(url)\n",
        "  for i in range(10):\n",
        "    see_more_button = driver.find_element_by_class_name(\"see-more__button\")\n",
        "    see_more_button.click()\n",
        "    time.sleep(1)\n",
        "  page_source = driver.page_source\n",
        " \n",
        "  soup = BeautifulSoup(page_source,\"html.parser\")\n",
        "  headlines = soup.find_all('a', attrs={'card__headline card__headline--long'})\n",
        " \n",
        "  for i in range(len(headlines)):\n",
        "    hl = headlines[i]['href']\n",
        "    if str(hl) not in data:\n",
        "      data.append(hl)\n",
        "  driver.quit()\n",
        " \n",
        " \n",
        " \n",
        " \n",
        " \n",
        "print(data)\n",
        "print(len(data))"
      ],
      "execution_count": 3,
      "outputs": [
        {
          "output_type": "stream",
          "text": [
            "/usr/local/lib/python3.6/dist-packages/ipykernel_launcher.py:8: DeprecationWarning: use options instead of chrome_options\n",
            "  \n",
            "/usr/local/lib/python3.6/dist-packages/ipykernel_launcher.py:9: DeprecationWarning: use options instead of chrome_options\n",
            "  if __name__ == '__main__':\n"
          ],
          "name": "stderr"
        },
        {
          "output_type": "stream",
          "text": [
            "https://www.huffingtonpost.co.uk/news/health/?guccounter=2\n"
          ],
          "name": "stdout"
        },
        {
          "output_type": "stream",
          "text": [
            "/usr/local/lib/python3.6/dist-packages/ipykernel_launcher.py:8: DeprecationWarning: use options instead of chrome_options\n",
            "  \n",
            "/usr/local/lib/python3.6/dist-packages/ipykernel_launcher.py:9: DeprecationWarning: use options instead of chrome_options\n",
            "  if __name__ == '__main__':\n"
          ],
          "name": "stderr"
        },
        {
          "output_type": "stream",
          "text": [
            "https://www.huffingtonpost.co.uk/news/food-drink/?guccounter=2\n"
          ],
          "name": "stdout"
        },
        {
          "output_type": "stream",
          "text": [
            "/usr/local/lib/python3.6/dist-packages/ipykernel_launcher.py:8: DeprecationWarning: use options instead of chrome_options\n",
            "  \n",
            "/usr/local/lib/python3.6/dist-packages/ipykernel_launcher.py:9: DeprecationWarning: use options instead of chrome_options\n",
            "  if __name__ == '__main__':\n"
          ],
          "name": "stderr"
        },
        {
          "output_type": "stream",
          "text": [
            "https://www.huffingtonpost.co.uk/news/wellbeing/?guccounter=2\n",
            "['https://www.huffingtonpost.co.uk/entry/can-your-blood-type-actually-predict-your-coronavirus-risk_uk_5eec9f84c5b6a16ed75f9a0b', 'https://www.huffingtonpost.co.uk/entry/the-hidden-heartbreak-of-sickle-cell-disease_uk_5d823967e4b070d468c52ef6', 'https://www.huffingtonpost.co.uk/entry/black-women-pregnancy_uk_5ef4bd67c5b615e5cd3a4e19', 'https://www.huffingtonpost.co.uk/entry/vitiligo-in-the-asian-community_uk_5ef45f43c5b643f5b22f7e61', 'https://www.huffingtonpost.co.uk/entry/why-is-ageing-such-a-dirty-word-being-young-is-overrated_uk_5ed7b8f0c5b6da0717fe294a', 'https://www.huffingtonpost.co.uk/entry/why-are-gyms-and-pools-still-closed-but-pubs-are-allowed-to-open_uk_5ef322efc5b6aa825ac953d6', 'https://www.huffingtonpost.co.uk/entry/dont-leave-your-hand-sanitiser-in-the-car-on-a-hot-day-nhs-warns_uk_5ef30f65c5b6aa825ac92a1c', 'https://www.huffingtonpost.co.uk/entry/ad-banned-for-suggesting-bra-could-reduce-breast-cancer-risk_uk_5ef211f2c5b6045b1018b9c8', 'https://www.huffingtonpost.co.uk/entry/just-sit-on-a-towel-what-people-need-to-know-about-heavy-periods_uk_5ef0c37ec5b68a559399da71', 'https://www.huffingtonpost.co.uk/entry/uk-coronavirus-deaths-june19_uk_5eeca9a3c5b68af65e924389', 'https://www.huffingtonpost.co.uk/entry/working-through-covid-19-has-taught-us-compassion-that-needs-to-last_uk_5ed7bb7dc5b68f9bdfdd7217', 'https://www.huffingtonpost.co.uk/entry/coronavirus-will-just-go-away-trump-says-as-cases-surge_uk_5ee9b6d1c5b650b4255d7c94', 'https://www.huffingtonpost.co.uk/entry/are-public-toilets-open-now-in-england_uk_5ee736c1c5b68c4e2c1bf376', 'https://www.huffingtonpost.co.uk/entry/snp-mp-amy-callaghan-in-stable-condition-after-brain-haemorrhage_uk_5ee72fbdc5b6f42dfbf6a79d', 'https://www.huffingtonpost.co.uk/entry/health-expert-calls-trumps-rally-extraordinarily-dangerous_uk_5ee71f82c5b64e08725a28da', 'https://www.huffingtonpost.co.uk/entry/how-i-cope-lockdown-series_uk_5ee0cf2fc5b67ebb679af07f', 'https://www.huffingtonpost.co.uk/entry/bowel-cancer-symptoms-diagnosis-treatment_uk_5bced6ffe4b055bc94844043', 'https://www.huffingtonpost.co.uk/entry/racism-is-a-mental-health-issue-support-each-other_uk_5edfeeddc5b64843bde22436', 'https://www.huffingtonpost.co.uk/entry/women-who-have-given-birth-during-lockdown-are-being-denied-6-week-postnatal-checks_uk_5ed50c14c5b617333aa0c59b', 'https://www.huffingtonpost.co.uk/entry/how-to-look-after-your-skin-when-wearing-a-face-mask_uk_5ed76513c5b6cdde56300a84', 'https://www.huffingtonpost.co.uk/entry/helen-whately-scientsts-coronavirus-deaths_uk_5edf357ec5b613cb0706374a', 'https://www.huffingtonpost.co.uk/entry/what-impact-does-vaginismus-have-on-womens-lives-listen-to-our-latest-podcast_uk_5ede4a38c5b64a0a73d84bc2', 'https://www.huffingtonpost.co.uk/entry/motherhood-and-identity-am-i-making-you-feel-uncomfortable_uk_5e622728c5b691b525f0e87e', 'https://www.huffingtonpost.co.uk/entry/it-makes-me-feel-strong-x-people-on-discovering-the-joy-of-running-during-lockdown_uk_5ed61763c5b65d90b0208883', 'https://www.huffingtonpost.co.uk/entry/how-the-covid-pandemic-is-changing-the-way-we-sleep_uk_5ed0c4d8c5b648e0a1b824e6', 'https://www.huffingtonpost.co.uk/entry/coronavirus-latest-may-28_uk_5ecf5659c5b6ac688082208f', 'https://www.huffingtonpost.co.uk/entry/one-million-women-have-missed-smear-tests-during-lockdown-what-will-the-longterm-impact-be_uk_5ec5259dc5b61e26b0d9fb98', 'https://www.huffingtonpost.co.uk/entry/can-coronavirus-spread-in-water-or-swimming-pools-heres-what-we-know_uk_5ecd335ac5b6de82df1e15d3', 'https://www.huffingtonpost.co.uk/entry/who-warns-of-second-peak_uk_5ecccae4c5b625a7e688e55d', 'https://www.huffingtonpost.co.uk/entry/coronavirus-latest-may-26_uk_5eccb245c5b648af3757778a', 'https://www.huffingtonpost.co.uk/entry/i-have-my-life-back-how-lockdown-has-made-abortions-more-accessible_uk_5ec24e10c5b6339e41390cd3', 'https://www.huffingtonpost.co.uk/entry/17-of-people-in-london-have-had-coronavirus-antibody-test-study-reveals_uk_5ec69f64c5b6715509a8fed7', 'https://www.huffingtonpost.co.uk/entry/uk-had-policy-of-emptying-hospitals-and-filling-care-homes-says-care-boss_uk_5ec3ac7dc5b61486e58669c0', 'https://www.huffingtonpost.co.uk/entry/body-image-in-lockdown-with-body-image-mental-health-campaigner-natasha-devon_uk_5ebeaa9dc5b6ae86c2fd466a', 'https://www.huffingtonpost.co.uk/entry/black-light-test-uses-paint-to-show-how-coronavirus-could-spread-around-a-buffet_uk_5ebd1894c5b6f891a07567e4', 'https://www.huffingtonpost.co.uk/entry/coronavirus-vaccine-hug-matt-hancock_uk_5eba6c02c5b687934c59c6b7', 'https://www.huffingtonpost.co.uk/entry/healthy-breakfast-recipes-ideas_uk_5e4e8980c5b6cf3dcfbbd71a', 'https://www.huffingtonpost.co.uk/entry/china-facing-rising-global-backlash_uk_5eb10714c5b6a15b6f453c63', 'https://www.huffingtonpost.co.uk/entry/dentists-appointment-uk-lockdown_uk_5eac3311c5b6995f14000f72', 'https://www.huffingtonpost.co.uk/entry/invisible-children-coronavirus-lockdown-health-visitor_uk_5eac0d27c5b6995f13ffa2d8', 'https://www.huffingtonpost.co.uk/entry/hangover-cure-plant-extract_uk_5eaac297c5b633a85446125a', 'https://www.huffingtonpost.co.uk/entry/how-to-stay-physically-and-mentally-fit-during-lockdown_uk_5e96f243c5b65eae709cf031', 'https://www.huffingtonpost.co.uk/entry/the-best-type-of-stretching-to-relieve-stress-and-anxiety_uk_5ea2d517c5b6d376358de267', 'https://www.huffingtonpost.co.uk/entry/vitamin-d-supplement-lockdown_uk_5ea15848c5b6194c7be8a7d4', 'https://www.huffingtonpost.co.uk/entry/how-to-give-a-massage_uk_5e9d7187c5b63c5b587193c3', 'https://www.huffingtonpost.co.uk/entry/the-restaurant-that-burns-off-calories_uk_5e9ed63ec5b6a486d07f0963', 'https://www.huffingtonpost.co.uk/entry/coronavirus-vaccine-taskforce_uk_5e99a89fc5b6a92100e5ffda', 'https://www.huffingtonpost.co.uk/entry/coronavirus-latest-15-april_uk_5e96a568c5b65eae709c1d7f', 'https://www.huffingtonpost.co.uk/entry/coronavirus-boris-johnson-hospital-discharged_uk_5e92f319c5b6765e9562abbb', 'https://www.huffingtonpost.co.uk/entry/accident-and-emergency-open-for-emergency-treatment-during-lockdown_uk_5e8dedcfc5b6748116191a09', 'https://www.huffingtonpost.co.uk/entry/abortion-pills-by-post_uk_5e8dadd2c5b62459a931addd', 'https://www.huffingtonpost.co.uk/entry/boris-johnson-stable-and-comfortable-in-hospital-says-health-minister_uk_5e8d7aa6c5b6e1d10a6bff01', 'https://www.huffingtonpost.co.uk/entry/tech-innovations-helping-fight-coronavirus_uk_5e8b14c3c5b6cc1e4778b26b', 'https://www.huffingtonpost.co.uk/entry/trump-still-pushing-malaria-drug_uk_5e8ad630c5b6cc1e47781b73', 'https://www.huffingtonpost.co.uk/entry/how-to-plan-for-a-positive-birth-in-the-midst-of-a-global-pandemic_uk_5e830aebc5b62dd9f5d56773', 'https://www.huffingtonpost.co.uk/entry/health-and-safety-chiefs-ignoring-plea-over-unsafe-workplaces-amid-coronavirus-crisis_uk_5e82192ac5b66149226bbc7f', 'https://www.huffingtonpost.co.uk/entry/self-isolation-coronavirus-eating-disorders_uk_5e81f216c5b6256a7a2e5fe8', 'https://www.huffingtonpost.co.uk/entry/protective-gowns-that-shield-nhs-staff-from-coronavirus-not-part-of-national-stockpile_uk_5e81f05dc5b66149226b3908', 'https://www.huffingtonpost.co.uk/entry/work-from-home-hacks_uk_5e7dc127c5b6cb9dc19e05d8', 'https://www.huffingtonpost.co.uk/entry/u-turn-home-abortions-coronavirus-lockdown-creasy_uk_5e79fbcbc5b63c3b649746ad', 'https://www.huffingtonpost.co.uk/entry/nhs-coronavirus-equipment-ventilators_uk_5e70f825c5b63c3b64859b8a', 'https://www.huffingtonpost.co.uk/entry/tired-after-a-big-sleep_uk_5e6b9a60c5b6747ef11bd160', 'https://www.huffingtonpost.co.uk/entry/coronavirus-global-reaction-responsive-country-by-country_uk_5e662bbec5b6670e72fb381d', 'https://www.huffingtonpost.co.uk/entry/sick-pay-leave_uk_5e666f7cc5b68d61645854cc', 'https://www.huffingtonpost.co.uk/entry/how-to-keep-your-heart-healthy_uk_5e4bf063c5b65f25da4f2baa', 'https://www.huffingtonpost.co.uk/entry/are-some-salts-better-for-you-than-others_uk_5e5f688ac5b63aaf8f5f71f4', 'https://www.huffingtonpost.co.uk/entry/miriam-margolyes-on-discovering-body-acceptance-aged-78-your-skin-will-wrinkle-your-ct-will-get-dry_uk_5e5e708fc5b6732f50e8cb12', 'https://www.huffingtonpost.co.uk/entry/40-days-for-life_uk_5e6184bcc5b647a5bd2f1f42', 'https://www.huffingtonpost.co.uk/entry/abortion-clinic-protestors_uk_5e5f954dc5b67ed38b3b4a2c', 'https://www.huffingtonpost.co.uk/entry/women-of-colour-healthcare-inequalities_uk_5e60fba4c5b6bd126b76cb15', 'https://www.huffingtonpost.co.uk/entry/johnson-coronavirus-battleplan_uk_5e5e0367c5b6732f50e791ae', 'https://www.huffingtonpost.co.uk/entry/plantar-fasciitis-symptoms-and-treatment_uk_5e568b9dc5b649ec433133ff', 'https://www.huffingtonpost.co.uk/entry/7-questions-your-therapist-will-probably-ask-during-your-first-session_uk_5e564209c5b6fc7a9e37f040', 'https://www.huffingtonpost.co.uk/entry/extreme-exercise-bad-for-you_uk_5e53e877c5b65e0f11c43ad9', 'https://www.huffingtonpost.co.uk/entry/born-without-anus_uk_5e5631cdc5b649ec433036dd', 'https://www.huffingtonpost.co.uk/entry/life-expectancy-northumberland_uk_5bfd4251e4b0eb6d9313c450', 'https://www.huffingtonpost.co.uk/entry/life-expectancy-rates-stall-for-first-time-in-100-years-and-austerity-is-to-blame_uk_5e54c6cec5b6ad3de383766a', 'https://www.huffingtonpost.co.uk/entry/non-diabetic-hyperglycaemia-impacts-2-million-brits-why-is-it-such-a-problem_uk_5e5394c3c5b6b82aa6558ab4', 'https://www.huffingtonpost.co.uk/entry/tesco-launches-plasters-in-diverse-skin-tones_uk_5e53931fc5b629695f5cfa71', 'https://www.huffingtonpost.co.uk/entry/life-weigh-over-400-lbs_uk_5e52fd4ec5b6a4525dbce0ed', 'https://www.huffingtonpost.co.uk/entry/how-to-improve-posture_uk_5e4fc4e6c5b6a4525db9c18a', 'https://www.huffingtonpost.co.uk/entry/asthma-at-work_uk_5e4bc38fc5b6b0f6bfeee5da', 'https://www.huffingtonpost.co.uk/entry/16-powerful-songs-about-mental-health-to-make-you-feel-less-alone_uk_5e500365c5b6b82aa65289cd', 'https://www.huffingtonpost.co.uk/entry/ferne-mccann-bladder-leaks-and-therapy_uk_5e32ce87c5b611ac94d05371', 'https://www.huffingtonpost.co.uk/entry/9-phrases-that-really-bother-people-with-depression_uk_5e4ea614c5b6cf3dcfbc2fba', 'https://www.huffingtonpost.co.uk/entry/sister-died-during-pregnancy-stop-asking-about-kids_uk_5e4d696ac5b65f25da52eec5', 'https://www.huffingtonpost.co.uk/entry/earache-in-the-cold_uk_5e4babf9c5b6eb8e95b2131a', 'https://www.huffingtonpost.co.uk/entry/champneys-is-in-trouble-over-apple-crumble-cancer-claims-just-when-we-thought-spa-wellness-couldnt-get-any-weirder_uk_5e4d0ddec5b6eb8e95b53461', 'https://www.huffingtonpost.co.uk/entry/vitamin-deficiencies-can-mess-with-your-mental-health_uk_5e4bb619c5b6eb8e95b22f1b', 'https://www.huffingtonpost.co.uk/entry/what-does-a-mediterranean-diet-look-like-in-real-life-breakfast-lunch-and-dinner-ideas-to-try_uk_5e4a6d18c5b64433c61901a1', 'https://www.huffingtonpost.co.uk/entry/women-over-35-denied-nhs-ivf-impact_uk_5e3d5f76c5b6bb0ffc0f7286', 'https://www.huffingtonpost.co.uk/entry/doughnut-recipe-bread-ahead_uk_5ecf7e4ec5b6566026ecf864', 'https://www.huffingtonpost.co.uk/entry/breakfast-pizza-recipe-gordon-ramsay_uk_5ef1da20c5b675808a230c79', 'https://www.huffingtonpost.co.uk/entry/how-cabbage-became-lockdowns-most-popular-vegetable_uk_5ef4aa77c5b615e5cd3a0b60', 'https://www.huffingtonpost.co.uk/entry/post-lockdown-pub-trip_uk_5ef1c861c5b6cbd2ca826c3a', 'https://www.huffingtonpost.co.uk/entry/things-to-do-in-the-sunshine-after-work_uk_5ef0bbb6c5b68ca2e87d027e', 'https://www.huffingtonpost.co.uk/entry/cooking-with-kids-recipe-lamb-red-lentil-date-tagine_uk_5ee9c836c5b68b2d06be3233', 'https://www.huffingtonpost.co.uk/entry/uncle-bens-evolving-its-brand-identity-after-aunt-jemima-name-change_uk_5eea323fc5b6626ca25609b0', 'https://www.huffingtonpost.co.uk/entry/how-to-make-japanese-iced-coffee-at-home_uk_5ee39183c5b6680aeca0c949', 'https://www.huffingtonpost.co.uk/entry/cooking-with-kids-blackcurrant-scones-recipe_uk_5ee09db1c5b605fa0fad1679', 'https://www.huffingtonpost.co.uk/entry/i-let-my-kid-cook-a-three-course-meal-and-she-didnt-burn-the-house-down-heres-how_uk_5ee1f7b0c5b6db67d5f2d827', 'https://www.huffingtonpost.co.uk/entry/marmite-shortage-during-lockdown_uk_5ee1e787c5b667bb1a0951d9', 'https://www.huffingtonpost.co.uk/entry/recipes-to-bake-after-banana-bread-a-choose-your-own-adventure-guide_uk_5edf63fec5b660412f86c22d', 'https://www.huffingtonpost.co.uk/entry/kisiel-summer-fruits-meringue_uk_5ed759c7c5b6a209e0b9c74f', 'https://www.huffingtonpost.co.uk/entry/how-to-use-all-the-food-in-your-fridge-to-prevent-waste_uk_5ed65332c5b66c722baf7667', 'https://www.huffingtonpost.co.uk/entry/family-shakshuka-recipe_uk_5ece6f45c5b6a3106afa3db7', 'https://www.huffingtonpost.co.uk/entry/how-to-have-a-socially-distanced-barbecue_uk_5ed10c77c5b67c705dfc521a', 'https://www.huffingtonpost.co.uk/entry/celebrating-eid-during-coronavirus-lockdown_uk_5ec7d77ec5b6f9d853c95f75', 'https://www.huffingtonpost.co.uk/entry/what-the-future-of-dining-out-could-look-like_uk_5ec39649c5b6abeabdb4dc39', 'https://www.huffingtonpost.co.uk/entry/easy-vegan-dinner-recipes-youll-fall-in-love-with_uk_5ec2661ac5b6e0401e97e100', 'https://www.huffingtonpost.co.uk/entry/how-restaurants-will-be-different-when-they-reopen-after-covid-19-closures_uk_5ebe5fb3c5b6f8ae018c53e6', 'https://www.huffingtonpost.co.uk/entry/food-scrap-hacks_uk_5eb96665c5b6c81be52e8713', 'https://www.huffingtonpost.co.uk/entry/what-happens-to-your-body-and-brain-when-you-go-vegan-or-vegetarian_uk_5ebd5b1bc5b655620b139ad7', 'https://www.huffingtonpost.co.uk/entry/cocktail-recipes-to-make-at-home_uk_5ae99537e4b06748dc8dfd27', 'https://www.huffingtonpost.co.uk/entry/10-photos-show-how-restaurants-are-social-distancing_uk_5ebce7fac5b6c495de48e428', 'https://www.huffingtonpost.co.uk/entry/six-minute-showstoppers-these-delicious-bakes-take-just-six-minutes-to-make_uk_5ebbe59dc5b62b43acc3ffde', 'https://www.huffingtonpost.co.uk/entry/brexit-us-trade-deal-food_uk_5ebc1544c5b6270384a98e17', 'https://www.huffingtonpost.co.uk/entry/m-and-family-pasta-bake-recipe_uk_5eba8abdc5b64a12847e63f2', 'https://www.huffingtonpost.co.uk/entry/how-to-make-crumpets_uk_5eb91450c5b6d34558afa8c2', 'https://www.huffingtonpost.co.uk/entry/the-olive-chicken-recipe-that-restored-my-faith-in-cooking_uk_5eb3d638c5b6526942a26c67', 'https://www.huffingtonpost.co.uk/entry/coffee-hacks-baristas_uk_5e2ab79ec5b67d8874afcb5d', 'https://www.huffingtonpost.co.uk/entry/veg-box-recipes_uk_5eb344a6c5b6526942a16ef7', 'https://www.huffingtonpost.co.uk/entry/gordon-ramsay-fish-and-chip-10-minutes_uk_5eb3cbf7c5b646b73d281804', 'https://www.huffingtonpost.co.uk/entry/why-reheated-coffee-tastes-so-bad-and-what-to-do-instead_uk_5eb3d771c5b6526942a270a7', 'https://www.huffingtonpost.co.uk/entry/best-barbecue-food-supermarkets_uk_5eb297e6c5b6f8deb4e9f635', 'https://www.huffingtonpost.co.uk/entry/lockdown-things-to-do-ranked_uk_5ea7e9eec5b608582578ad40', 'https://www.huffingtonpost.co.uk/entry/britains-cheesemakers-and-mongers-bearing-up_uk_5ea6f236c5b67375e40796d6', 'https://www.huffingtonpost.co.uk/entry/coronavirus-food_uk_5eafd410c5b64d204962e619', 'https://www.huffingtonpost.co.uk/entry/the-peanut-butter-bread-recipes-everyones-searching-for_uk_5eafd57ec5b64d204962eab7', 'https://www.huffingtonpost.co.uk/entry/craft-beer-industry-lockdown_uk_5ea68abcc5b6805f9ecfeb7c', 'https://www.huffingtonpost.co.uk/entry/coronavirus-online-food-delivery-alternatives_uk_5e81cd42c5b66149226af005', 'https://www.huffingtonpost.co.uk/entry/how-to-help-others-coronavirus-donate_uk_5eaa9cd3c5b62eaf043f69a5', 'https://www.huffingtonpost.co.uk/entry/the-10-most-popular-instagram-recipes-from-april-2020_uk_5eaae673c5b66cb141514a05', 'https://www.huffingtonpost.co.uk/entry/can-air-conditioning-spread-coronavirus-what-you-need-to-know_uk_5ea303d4c5b669fd8923ee3f', 'https://www.huffingtonpost.co.uk/entry/three-ingredient-store-cupboard-recipes_uk_5ea6fd2ac5b6a30004e5ebcd', 'https://www.huffingtonpost.co.uk/entry/homemade-dog-treat-recipes-baking_uk_5ea711e8c5b6a30004e6350d', 'https://www.huffingtonpost.co.uk/entry/how-i-cope-keeping-fermented-projects-alive_uk_5e9e9fd0c5b63c5b5873f314', 'https://www.huffingtonpost.co.uk/entry/use-by-dates-best-before-dates_uk_5ea02453c5b6b2e5b83aa29c', 'https://www.huffingtonpost.co.uk/entry/ramadan-coronavirus-lockdown-virtual-iftar-eat-together_uk_5e9f1516c5b63c5b5875137b', 'https://www.huffingtonpost.co.uk/entry/whipped-coffee-alternatives-these-5-coffee-drink-recipes-are-better_uk_5e9efe07c5b6b2e5b8384d4e', 'https://www.huffingtonpost.co.uk/entry/easy-instant-pot-recipes-you-can-make-with-5-ingredients-or-less_uk_5e9ecb08c5b6b2e5b837d46f', 'https://www.huffingtonpost.co.uk/entry/ramadan-coronavirus_uk_5e9d9f67c5b67264464ba45d', 'https://www.huffingtonpost.co.uk/entry/banana-brownies-for-when-youre-sick-of-banana-bread_uk_5e9d985bc5b63c5b5871daa4', 'https://www.huffingtonpost.co.uk/entry/how-to-make-the-best-egg-salad-according-to-experts_uk_5e986d1ac5b65eae70a098a4', 'https://www.huffingtonpost.co.uk/entry/how-i-cope-baking-badly-helps-my-mind-escape-the-chaos_uk_5e8b133ac5b6cbaf282c77ee', 'https://www.huffingtonpost.co.uk/entry/zero-waste-cooking-recipes_uk_5e970df4c5b65eae709d44ef', 'https://www.huffingtonpost.co.uk/entry/17-no-bake-desserts-for-everyone-whos-too-exhausted-to-bake_uk_5e972340c5b6bcd521918cf0', 'https://www.huffingtonpost.co.uk/entry/burger-king-adverts-for-rebel-whopper-plant-based-burger-just-got-banned-for-being-misleading_uk_5e95b1e4c5b606109f6031b6', 'https://www.huffingtonpost.co.uk/entry/weird-comfort-food-pairings-for-lockdown_uk_5e8dade0c5b62459a931adf9', 'https://www.huffingtonpost.co.uk/entry/easy-instant-pot-recipes-for-easter_uk_5e8ef55ac5b6d641a6baabd2', 'https://www.huffingtonpost.co.uk/entry/baking-ingredient-swaps-you-need-to-know-for-easter-weekend_uk_5e8d8753c5b6e1a2e0fc3dca', 'https://www.huffingtonpost.co.uk/entry/how-to-eat-creme-egg-cadbury_uk_5abb99e8e4b06409775bf4f9', 'https://www.huffingtonpost.co.uk/entry/simple-easter-recipes_uk_5e8e29a8c5b6d641a6b8fe80', 'https://www.huffingtonpost.co.uk/entry/what-to-do-this-bank-holiday-easter-weekend_uk_5e8da130c5b6e1a2e0fc7f34', 'https://www.huffingtonpost.co.uk/entry/why-you-shouldnt-wash-produce-with-soap-during-the-coronavirus-crisis_uk_5e8ddd4bc5b62459a9323799', 'https://www.huffingtonpost.co.uk/entry/how-to-make-bread-recipes-foccacia-and-ciabatta_uk_5e8351ccc5b62dd9f5d64d14', 'https://www.huffingtonpost.co.uk/entry/coronavirus-quarantine-bingo_uk_5e81fe9bc5b66149226b5ca0', 'https://www.huffingtonpost.co.uk/entry/coronavirus-meals-for-the-nhs_uk_5e7f2bccc5b6614922684525', 'https://www.huffingtonpost.co.uk/entry/how-to-have-a-staycation-at-home-this-weekend_uk_5e7e0f4dc5b6cb9dc19ed59c', 'https://www.huffingtonpost.co.uk/entry/coronavirus-scared-frightened-not-able-to-feed-children_uk_5e7a4816c5b6f5b7c54c071f', 'https://www.huffingtonpost.co.uk/entry/how-to-disinfect-food-and-your-kitchen-for-coronavirus_uk_5e7a26d6c5b63c3b6497d12c', 'https://www.huffingtonpost.co.uk/entry/how-to-prioritise-your-cupboard-food-to-make-it-last-longer_uk_5e79e98cc5b6f5b7c54af7cb', 'https://www.huffingtonpost.co.uk/entry/easy-snack-recipes_uk_5e68f823c5b60557280f1165', 'https://www.huffingtonpost.co.uk/entry/heres-what-youve-been-cooking-during-coronavirus-self-quarantine_uk_5e74e3f0c5b6eab77946ead4', 'https://www.huffingtonpost.co.uk/entry/17-simple-food-swaps-for-when-you-run-out-of-ingredients_uk_5e74961fc5b6eab77945e311', 'https://www.huffingtonpost.co.uk/entry/how-to-open-and-clean-delivery-packages-during-the-coronavirus-pandemic_uk_5e734b37c5b63c3b648b0f11', 'https://www.huffingtonpost.co.uk/entry/creme-egg-recipes-for-easter_uk_5e6b9e3ec5b6747ef11bdce8', 'https://www.huffingtonpost.co.uk/entry/hawksmoor-temporary-closure-coronavirus_uk_5e710aa4c5b60fb69ddf3537', 'https://www.huffingtonpost.co.uk/entry/supermarket-anxiety-is-a-real-thing-heres-how-to-overcome-it_uk_5e709090c5b60fb69ddd88d5', 'https://www.huffingtonpost.co.uk/entry/coronavirus-panic-buying-psychology_uk_5e660b58c5b68d616456f609', 'https://www.huffingtonpost.co.uk/entry/25-baking-recipes-for-self-quarantine-and-self-care_uk_5e6b956dc5b6dda30fc7d9cc', 'https://www.huffingtonpost.co.uk/entry/vegans-eat-non-vegan-food_uk_5e6659fac5b6670e72fbd796', 'https://www.huffingtonpost.co.uk/entry/how-to-cook-eggs-without-making-these-common-mistakes_uk_5e660e69c5b68d6164570275', 'https://www.huffingtonpost.co.uk/entry/starbucks-bans-reusable-coffee-cups-during-the-coronavirus-outbreak_uk_5e6224c5c5b691b525f0e0c4', 'https://www.huffingtonpost.co.uk/entry/what-you-need-to-know-about-public-touch-screens-during-the-coronavirus-outbreak_uk_5e5faac4c5b6732f50eb6dfd', 'https://www.huffingtonpost.co.uk/entry/snickers-deletes-insulting-tweets-about-welsh-language_uk_5e5f722ec5b63aaf8f5f911e', 'https://www.huffingtonpost.co.uk/entry/we-tried-greggs-new-vegan-hot-cross-buns-and-this-is-what-we-thought_uk_5e591baec5b60102210f8ea8', 'https://www.huffingtonpost.co.uk/entry/15-clever-ways-vinegar-can-work-magic-around-your-house_uk_5e58e165c5b6beedb4e98606', 'https://www.huffingtonpost.co.uk/entry/summer-solstice-reframing-loss-of-time_uk_5eea3f25c5b679552f1a5b62', 'https://www.huffingtonpost.co.uk/entry/how-to-support-black-british-people-right-now-and-how-not-to_uk_5ed926fec5b6fb6d6b3b13c1', 'https://www.huffingtonpost.co.uk/entry/heres-how-all-these-work-video-calls-are-messing-with-our-minds_uk_5ebcfb5dc5b6680b2aa89045', 'https://www.huffingtonpost.co.uk/entry/rest-within-resistance_uk_5ee78d1ec5b69adfa9598cd9', 'https://www.huffingtonpost.co.uk/entry/kate-on-kindness-in-a-pandemic-as-we-help-others-we-mustnt-forget-to-nurture-ourselves_uk_5eea29c3c5b6ac8384ad7736', 'https://www.huffingtonpost.co.uk/entry/future-of-work-life-balance_uk_5ee0a665c5b605fa0fad2b13', 'https://www.huffingtonpost.co.uk/entry/future-of-the-workplace-covid-19_uk_5ee255c1c5b6c846accb15f8', 'https://www.huffingtonpost.co.uk/entry/new-support-bubble-rule-has-left-a-lot-of-people-puzzled-about-what-to-do-now_uk_5ee1e962c5b667bb1a09559c', 'https://www.huffingtonpost.co.uk/entry/the-nations-mental-health-has-suffered-during-lockdown-we-now-need-action_uk_5ee0a154c5b605fa0fad1efd', 'https://www.huffingtonpost.co.uk/entry/why-youre-having-anxiety-over-lockdown-ending-and-how-to-cope_uk_5ee0bc97c5b6965440839865', 'https://www.huffingtonpost.co.uk/entry/15-things-therapists-do-when-theyre-worried-about-the-future_uk_5ede1779c5b666e2e2f7e759', 'https://www.huffingtonpost.co.uk/entry/how-i-cope-cycling-freedom-lockdown_uk_5ed0f3cbc5b6fe25da3ca057', 'https://www.huffingtonpost.co.uk/entry/do-you-have-to-go-back-to-the-office-if-your-boss-asks-you-to_uk_5eda03cfc5b6e9ad514a4eb5', 'https://www.huffingtonpost.co.uk/entry/how-are-we-going-to-get-our-sex-lives-back_uk_5ed9661dc5b668c296131c0a', 'https://www.huffingtonpost.co.uk/entry/why-a-little-bit-of-rain-shouldnt-stop-you-getting-outside-this-weekend_uk_5eda0f69c5b6df553f3919b0', 'https://www.huffingtonpost.co.uk/entry/heres-why-youre-reminiscing-more-than-usual-during-the-pandemic_uk_5ed90adac5b63cce951104fd', 'https://www.huffingtonpost.co.uk/entry/joy-of-socially-distanced-meet-ups_uk_5ed57000c5b6c4822da2b812', 'https://www.huffingtonpost.co.uk/entry/this-is-isolation-summed-up-by-8-young-artists-during-lockdown_uk_5ed7bbf8c5b68f9bdfdd730b', 'https://www.huffingtonpost.co.uk/entry/were-emotionally-conflicted-as-lockdown-eases-heres-how-not-to-let-it-ruin-everything_uk_5ed6051ac5b651b2b3178a0f', 'https://www.huffingtonpost.co.uk/entry/were-used-to-being-spontaneous-heres-how-to-cope-now-we-cant-be_uk_5ed0fdc3c5b6a2136472bf46', 'https://www.huffingtonpost.co.uk/entry/how-i-cope-children-nature-stunt-rides_uk_5ecd0bf1c5b6086f7e6ec1ba', 'https://www.huffingtonpost.co.uk/entry/watching-porn-lockdown_uk_5ecfd6b3c5b6829ee4d298fc', 'https://www.huffingtonpost.co.uk/entry/7-funny-tweets-to-have-you-laughing-into-the-weekend_uk_5ecf7999c5b6cbc993fb8475', 'https://www.huffingtonpost.co.uk/entry/how-to-get-through-a-low-day-mood-boosters_uk_5ecd3630c5b6de82df1e1d99', 'https://www.huffingtonpost.co.uk/entry/when-you-and-your-housemates-interpret-lockdown-rules-differently_uk_5ecd353ec5b67f9b9befbd4c', 'https://www.huffingtonpost.co.uk/entry/coronavirus-symptoms-hay-fever-difference_uk_5e8b1406c5b6cbaf282c793f', 'https://www.huffingtonpost.co.uk/entry/why-is-our-motivation-constantly-wavering-right-now_uk_5ec7a33ec5b634e6699ad5ab', 'https://www.huffingtonpost.co.uk/entry/how-to-deal-with-anger-during-lockdown_uk_5eccd5efc5b648af3757d1a8', 'https://www.huffingtonpost.co.uk/entry/how-i-cope-the-view-from-my-window_uk_5ec7bc46c5b6b94385059fa6', 'https://www.huffingtonpost.co.uk/entry/here-are-a-few-things-to-feel-optimistic-about-right-now_uk_5ec7cb24c5b6c52461c1bdde', 'https://www.huffingtonpost.co.uk/entry/how-to-ditch-the-diet-mentality-and-still-feel-good-in-your-body_uk_5ec7fa15c5b6e71f4b9a6ec6', 'https://www.huffingtonpost.co.uk/entry/the-psychological-benefits-of-having-things-to-look-forward-to_uk_5ec7abe5c5b63a187ea9425d', 'https://www.huffingtonpost.co.uk/entry/why-you-are-much-less-likely-to-catch-coronavirus-outdoors_uk_5ec78b99c5b6c46f05e07600', 'https://www.huffingtonpost.co.uk/entry/10-sneaky-ways-your-coronavirus-anxiety-is-coming-out_uk_5ec50185c5b6c1f21e70dd93', 'https://www.huffingtonpost.co.uk/entry/this-is-your-body-and-brain-on-coronavirus-quarantine_uk_5ec2a017c5b6e6a278bbb5b8', 'https://www.huffingtonpost.co.uk/entry/3-simple-nail-art-ideas-for-people-who-are-truly-shit-at-home-manicures_uk_5ec2a2dcc5b61f5478d1c976', 'https://www.huffingtonpost.co.uk/entry/without-future-plans-were-living-in-an-infinite-present-heres-why-thats-hard_uk_5ebe6f1bc5b6500cdf66b468', 'https://www.huffingtonpost.co.uk/entry/work-from-home-motivation_uk_5e8d93eac5b6e1a2e0fc6343', 'https://www.huffingtonpost.co.uk/entry/how-the-light-gets-in-what-a-festival-looks-like-in-lockdown_uk_5ebd74e6c5b655620b1408ac', 'https://www.huffingtonpost.co.uk/entry/how-i-cope-eurovision-again_uk_5ebc2819c5b6e2ae20ed049b', 'https://www.huffingtonpost.co.uk/entry/why-letter-writing-and-receiving-is-more-important-than-ever_uk_5ebbad9fc5b6ae915a8c6273', 'https://www.huffingtonpost.co.uk/entry/14-small-self-care-tips-that-will-make-a-big-difference-during-the-coronavirus_uk_5eba66fdc5b687934c59babc', 'https://www.huffingtonpost.co.uk/entry/confused-about-the-lockdown-guidelines-therapists-explain-how-to-take-back-control_uk_5eba5e95c5b69011a5736edc', 'https://www.huffingtonpost.co.uk/entry/human-touch-coronavirus-hugs_uk_5e70b2f1c5b63c3b64849b63', 'https://www.huffingtonpost.co.uk/entry/small-pleasures-lockdown_uk_5eb1405ac5b60a927781e63b', 'https://www.huffingtonpost.co.uk/entry/coronavirus-could-leave-you-with-symptoms-of-post-viral-fatigue_uk_5eb3e88dc5b6526942a29dfc', 'https://www.huffingtonpost.co.uk/entry/how-i-cope-adult-colouring-private-view_uk_5eb3b499c5b646b73d27baa7', 'https://www.huffingtonpost.co.uk/entry/housemates-in-lockdown-daily-photoshoot_uk_5eb40266c5b6526942a2d9fc', 'https://www.huffingtonpost.co.uk/entry/single-parents-feel-forgottenxxxxx_uk_5eb12a22c5b60a927781aefa', 'https://www.huffingtonpost.co.uk/entry/9-funny-and-feel-good-tweets-to-kick-off-your-bank-holiday_uk_5eb3d1a1c5b6526942a2621d', 'https://www.huffingtonpost.co.uk/entry/drug-use-in-lockdown-partying_uk_5ea71584c5b646ae86a659ea', 'https://www.huffingtonpost.co.uk/entry/low-mood-coronavirus-lockdown_uk_5eac0358c5b64d644f0e9e7c', 'https://www.huffingtonpost.co.uk/entry/how-i-cope-making-playlists-keeps-me-focused-and-connected-to-people-i-miss_uk_5eaa107dc5b62eaf043e9fc9', 'https://www.huffingtonpost.co.uk/entry/now-is-the-perfect-time-for-a-spring-wardrobe-clear-out_uk_5ea958e5c5b6fb98a2b59dd0', 'https://www.huffingtonpost.co.uk/entry/will-we-still-be-willing-to-pay-for-gym-memberships-after-lockdown_uk_5ea9a75ac5b6123a1765cbf3', 'https://www.huffingtonpost.co.uk/entry/is-it-okay-to-visit-loved-ones-during-lockdown_uk_5ea6aa42c5b66d0b7b4396f7', 'https://www.huffingtonpost.co.uk/entry/how-are-you-feeling_uk_5ea71bd5c5b6a30004e65419', 'https://www.huffingtonpost.co.uk/entry/post-lockdown-life-grand-plans_uk_5e9ef6c5c5b6a486d07f5b55', 'https://www.huffingtonpost.co.uk/entry/what-to-say-to-someone-whos-grieving-during-the-coronavirus-pandemic_uk_5ea6c7e8c5b61d8d7bee556d', 'https://www.huffingtonpost.co.uk/entry/quarantine-fatigue-hits-coronavirus-complacency_uk_5ea6a871c5b6dd3f90877d39', 'https://www.huffingtonpost.co.uk/entry/what-is-the-26-challenge-here-are-26-ways-you-can-get-involved_uk_5ea2da2fc5b669fd8923370a', 'https://www.huffingtonpost.co.uk/entry/feeling-bored-in-lockdown-embrace-it_uk_5e9eff6ac5b6b2e5b8385191', 'https://www.huffingtonpost.co.uk/entry/pets-comfort-cope-lockdown_uk_5ea2a1d3c5b669fd8922a1c9', 'https://www.huffingtonpost.co.uk/entry/how-to-keep-in-touch-with-someone-whos-seriously-ill-when-you-cant-visit_uk_5ea2aca3c5b6d376358d7028', 'https://www.huffingtonpost.co.uk/entry/shopping-more-in-lockdown-retail-therapy_uk_5ea15cc2c5b6194c7be8b54f', 'https://www.huffingtonpost.co.uk/entry/funny-tweets-if-youre-struggling-to-laugh-today_uk_5ea15599c5b699978a33b8ad', 'https://www.huffingtonpost.co.uk/entry/bookshops-doing-delivery-map_uk_5ea14d97c5b69150246dc689', 'https://www.huffingtonpost.co.uk/entry/one-upmanship-needs-to-stop-coronavirus-is-hard-on-everyone_uk_5e9d64a4c5b69e5ecca50d5d', 'https://www.huffingtonpost.co.uk/entry/lets-get-real-our-kids-are-feeling-lonely-in-lockdown_uk_5e9992bdc5b62f4a2df54de3', 'https://www.huffingtonpost.co.uk/entry/online-laughter-yoga-clubs_uk_5e981b0fc5b65eae709faa36', 'https://www.huffingtonpost.co.uk/entry/women-on-furlough-reality_uk_5e96ae27c5b6ead14004a93f', 'https://www.huffingtonpost.co.uk/entry/struggling-to-clean-your-house-right-now-lets-stop-feeling-bad-about-it_uk_5e982c5cc5b6ead140085477', 'https://www.huffingtonpost.co.uk/entry/nature-helping-brits-cope-through-lockdown_uk_5e9813fbc5b6a92100e28734', 'https://www.huffingtonpost.co.uk/entry/things-were-looking-forward-to-lockdown_uk_5e95c85ac5b63783308d8ccb', 'https://www.huffingtonpost.co.uk/entry/have-your-periods-gone-weird-in-lockdown-ours-too_uk_5e98389ac5b6ead14008719e', 'https://www.huffingtonpost.co.uk/entry/9-funny-tweets-thatll-have-you-laughing-into-the-weekend_uk_5e981f7bc5b65eae709fb8ed', 'https://www.huffingtonpost.co.uk/entry/when-will-coronavirus-end_uk_5e96ce56c5b6ac7eb262d46d']\n",
            "255\n"
          ],
          "name": "stdout"
        }
      ]
    },
    {
      "cell_type": "code",
      "metadata": {
        "id": "-gHPS0YPDgLf",
        "colab_type": "code",
        "colab": {}
      },
      "source": [
        "Data_ = []\n",
        " \n",
        "type_ = ['lifestyle']\n",
        "for i in range(250):\n",
        "    Data = []\n",
        "    url1 = data[i] + '/?guccounter=2'\n",
        "    req = Request(url1, headers={'User-Agent': 'XYZ/3.0'})\n",
        "    page = urlopen(req,timeout=10)\n",
        "    soup = BeautifulSoup(page,\"html.parser\")\n",
        "    headlines = soup.find_all('p')\n",
        "    a = len(headlines)\n",
        "    a = a-3\n",
        "    k =0\n",
        "    for i in range(1, a):\n",
        "        headline = str(headlines[i].text)\n",
        "        if(k==0):\n",
        "           b = str(headline)\n",
        "        else:\n",
        "           b = b+' '+headline\n",
        "        k += 1\n",
        "    Data.append(b)\n",
        "    Data.append('lifestyle')\n",
        "    Data_.append(Data)"
      ],
      "execution_count": null,
      "outputs": []
    },
    {
      "cell_type": "code",
      "metadata": {
        "id": "7QoRF1o0TJGc",
        "colab_type": "code",
        "colab": {}
      },
      "source": [
        "#Importing libra\n",
        "import csv\n",
        "# opening the csv file in 'w+' mode \n",
        "file = open('/content/Crawl3.csv', 'w+', newline ='') \n",
        "  \n",
        "# writing the data into the file \n",
        "# [['bàibao','tiêu đề'],['bàibao1','tiêu đề1']]\n",
        "with file:     \n",
        "    write = csv.writer(file) \n",
        "    write.writerows(Data_)"
      ],
      "execution_count": null,
      "outputs": []
    }
  ]
}